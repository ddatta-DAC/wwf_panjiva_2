{
 "cells": [
  {
   "cell_type": "code",
   "execution_count": 1,
   "metadata": {},
   "outputs": [],
   "source": [
    "import pandas as pd\n",
    "import numpy as np\n",
    "from sklearn.preprocessing import normalize\n",
    "from pprint import pprint\n",
    "import glob\n",
    "import networkx as nx\n",
    "import main_v2 \n",
    "import matplotlib.pyplot as plt\n",
    "import seaborn as sns\n",
    "from main_v2 import node_record\n",
    "from main_v2 import node_entity\n"
   ]
  },
  {
   "cell_type": "code",
   "execution_count": 33,
   "metadata": {},
   "outputs": [
    {
     "name": "stdout",
     "output_type": "stream",
     "text": [
      "['PanjivaRecordID', 'CustomsCode', 'LocationCode', 'PortOfUnladingUNLOCODE', 'ShipmentDestination', 'ShipperPanjivaID', 'TransportMethod', 'hscode_6']\n",
      "46346 330639\n"
     ]
    }
   ],
   "source": [
    "df, labelled_indices, g, record_nodeID_dict, domain_entity_nodeID_dict = main_v2.preprocess_1(False)\n",
    "print(g.number_of_nodes(), g.number_of_edges())"
   ]
  },
  {
   "cell_type": "code",
   "execution_count": 34,
   "metadata": {},
   "outputs": [],
   "source": [
    "# lets try to remove the  feature -feature edges\n",
    "_edges = list(g.edges())\n",
    "for e in _edges:\n",
    "    n1t = g.nodes[e[0]]['data'].type\n",
    "    n2t = g.nodes[e[1]]['data'].type\n",
    "    if n1t =='entity' and n2t == 'entity':\n",
    "        g.remove_edge(e[0],e[1])"
   ]
  },
  {
   "cell_type": "code",
   "execution_count": 35,
   "metadata": {},
   "outputs": [
    {
     "data": {
      "text/plain": [
       "312949"
      ]
     },
     "execution_count": 35,
     "metadata": {},
     "output_type": "execute_result"
    }
   ],
   "source": [
    "g.number_of_edges()"
   ]
  },
  {
   "cell_type": "code",
   "execution_count": 36,
   "metadata": {},
   "outputs": [
    {
     "name": "stdout",
     "output_type": "stream",
     "text": [
      "(46346, 46346)\n",
      "iter : 0  |  diff : 0.001868085379511604\n",
      " difference =  1.5980609644828184e-08\n",
      " Number of iterations  4\n"
     ]
    }
   ],
   "source": [
    "\n",
    "\n",
    "# new labels\n",
    "Y_new = main_v2.semi_supervised(\n",
    "    g,\n",
    "    labelled_indices\n",
    ")"
   ]
  },
  {
   "cell_type": "code",
   "execution_count": 37,
   "metadata": {},
   "outputs": [],
   "source": [
    "_list = []\n",
    "for i in range(Y_new.shape[0]):\n",
    "    if abs(Y_new[i]) >= 0.001:\n",
    "        _list.append(i)"
   ]
  },
  {
   "cell_type": "code",
   "execution_count": 38,
   "metadata": {},
   "outputs": [],
   "source": [
    "import math \n",
    "from sklearn.preprocessing import MinMaxScaler\n",
    "\n",
    "def _scale_values(arr):\n",
    "    scale = lambda x: math.exp(abs(x)) * math.copysign(1, x) \n",
    "    tmp = np.reshape(arr,[-1])\n",
    "    tmp = list(tmp)\n",
    "    tmp = [scale(_) for _ in tmp]\n",
    "    scaler = MinMaxScaler([-1,1])\n",
    "    tmp = scaler.fit_transform(np.reshape(tmp,[-1,1]))\n",
    "    return tmp\n"
   ]
  },
  {
   "cell_type": "code",
   "execution_count": 39,
   "metadata": {},
   "outputs": [],
   "source": [
    "def number_of_label_changes(Y_old,Y_new):\n",
    "    tmp1 = np.reshape(Y_old,[-1])\n",
    "    tmp2 = np.reshape(Y_new,[-1])\n",
    "    _sign_change = 0\n",
    "    _non_zero = 0\n",
    "    for a,b in zip(tmp1,tmp2):\n",
    "        if (a < 0 and b > 0) or  (a > 0 and b < 0):\n",
    "            _sign_change += 1\n",
    "        elif (a == 0 and b!=0) or ( a != 0 and b == 0):\n",
    "            _non_zero +=1\n",
    "    print(_sign_change, _non_zero, _sign_change+_non_zero)\n",
    "    return\n"
   ]
  },
  {
   "cell_type": "code",
   "execution_count": 40,
   "metadata": {},
   "outputs": [],
   "source": [
    "Y_orig = labelled_indices"
   ]
  },
  {
   "cell_type": "code",
   "execution_count": 41,
   "metadata": {},
   "outputs": [
    {
     "name": "stdout",
     "output_type": "stream",
     "text": [
      "(46346, 46346)\n",
      "iter : 0  |  diff : 0.001868085379511604\n",
      " difference =  1.5980609644828184e-08\n",
      " Number of iterations  4\n",
      "(46346, 46346)\n",
      "iter : 0  |  diff : 0.001868085379511604\n",
      " difference =  1.5980609644828184e-08\n",
      " Number of iterations  4\n",
      "0 46094 46094\n"
     ]
    }
   ],
   "source": [
    "Y_new = main_v2.semi_supervised(\n",
    "    g,\n",
    "    Y_orig\n",
    ")\n",
    "\n",
    "number_of_loops = range(1)\n",
    "Y_old = np.array(Y_orig)\n",
    "for n in number_of_loops:\n",
    "    Y_new = main_v2.semi_supervised(\n",
    "        g,\n",
    "        Y_old\n",
    "    )\n",
    "    number_of_label_changes(Y_old,Y_new)\n",
    "#     if n ==0 :\n",
    "#         Y_new = _scale_values(Y_new)\n",
    "    Y_old = Y_new"
   ]
  },
  {
   "cell_type": "code",
   "execution_count": 42,
   "metadata": {},
   "outputs": [
    {
     "data": {
      "image/png": "[encoded data removed]",
      "text/plain": [
       "<Figure size 576x432 with 1 Axes>"
      ]
     },
     "metadata": {
      "needs_background": "light"
     },
     "output_type": "display_data"
    },
    {
     "data": {
      "image/png": "[encoded data removed]",
      "text/plain": [
       "<Figure size 432x288 with 1 Axes>"
      ]
     },
     "metadata": {
      "needs_background": "light"
     },
     "output_type": "display_data"
    }
   ],
   "source": [
    "plt.figure(figsize=[8,6])\n",
    "tmp =np.reshape(Y_old,[-1])\n",
    "sns.kdeplot(tmp)\n",
    "\n",
    "plt.show()\n",
    "plt.hist(tmp)\n",
    "plt.show()"
   ]
  },
  {
   "cell_type": "code",
   "execution_count": null,
   "metadata": {},
   "outputs": [],
   "source": []
  },
  {
   "cell_type": "code",
   "execution_count": 43,
   "metadata": {},
   "outputs": [],
   "source": [
    "from IPython.display import display, HTML\n",
    "\n",
    "def show_row(df,P_id):\n",
    "    _df = df.loc[df['PanjivaRecordID'] == P_id]\n",
    "    display(HTML(_df.to_html()))\n",
    "    return\n"
   ]
  },
  {
   "cell_type": "markdown",
   "metadata": {},
   "source": [
    "# Let us see if the most positive rows are \"similar to\" the ones in the anomalies"
   ]
  },
  {
   "cell_type": "code",
   "execution_count": 44,
   "metadata": {},
   "outputs": [],
   "source": [
    "nodeID_record_dict = {v:k for k,v  in record_nodeID_dict.items()}\n",
    "\n",
    "def get_similar_Pids (\n",
    "    Y_cur, \n",
    "    nodeID_record_dict\n",
    "):\n",
    "    _list = []\n",
    "    _dict = {}\n",
    "    _tmp = _scale_values(Y_cur)\n",
    "    for i in range(Y_cur.shape[0]):\n",
    "        if _tmp[i][0] < 1.0 and _tmp[i][0] > 0.35 :\n",
    "            if  i in nodeID_record_dict.keys():\n",
    "                _list.append(nodeID_record_dict[i])\n",
    "                _dict[nodeID_record_dict[i]] = _tmp[i][0]\n",
    "    print(len(_list))\n",
    "    import operator\n",
    "    \n",
    "    sorted_scores = sorted(_dict.items(), key=operator.itemgetter(1) , reverse=True )\n",
    "    \n",
    "    return _list, sorted_scores\n"
   ]
  },
  {
   "cell_type": "code",
   "execution_count": 45,
   "metadata": {},
   "outputs": [
    {
     "name": "stdout",
     "output_type": "stream",
     "text": [
      "2375\n"
     ]
    }
   ],
   "source": [
    "_list, sorted_scores = get_similar_Pids (Y_old, nodeID_record_dict)"
   ]
  },
  {
   "cell_type": "code",
   "execution_count": 46,
   "metadata": {},
   "outputs": [
    {
     "name": "stdout",
     "output_type": "stream",
     "text": [
      "10937 0.36787956341242384\n",
      "[-0.] 0.012347059744559017 CustomsCode\n",
      "[-0.] 0.0028854541794349877 LocationCode\n",
      "[-1.525e-10] 8.947144742434071e-05 PortOfUnladingUNLOCODE\n",
      "[-0.001] 0.01248126691569553 ShipmentDestination\n",
      "[-0.001] 0.005502494016596953 ShipperPanjivaID\n",
      "[0.] 0.09110430133983492 TransportMethod\n",
      "[-0.001] 0.005636701187733464 hscode_6\n",
      "-----\n",
      "43392 0.36787956341242384\n",
      "[-0.] 0.012347059744559017 CustomsCode\n",
      "[-0.] 0.0028854541794349877 LocationCode\n",
      "[-1.525e-10] 8.947144742434071e-05 PortOfUnladingUNLOCODE\n",
      "[-0.001] 0.01248126691569553 ShipmentDestination\n",
      "[-0.001] 0.005502494016596953 ShipperPanjivaID\n",
      "[0.] 0.09110430133983492 TransportMethod\n",
      "[-0.001] 0.005636701187733464 hscode_6\n",
      "-----\n",
      "43653 0.36787956341242384\n",
      "[-0.] 0.012347059744559017 CustomsCode\n",
      "[-0.] 0.0028854541794349877 LocationCode\n",
      "[-1.525e-10] 8.947144742434071e-05 PortOfUnladingUNLOCODE\n",
      "[-0.001] 0.01248126691569553 ShipmentDestination\n",
      "[-0.001] 0.005502494016596953 ShipperPanjivaID\n",
      "[0.] 0.09110430133983492 TransportMethod\n",
      "[-0.001] 0.005636701187733464 hscode_6\n",
      "-----\n",
      "1631 0.36787956190990084\n",
      "[-0.] 0.012347059744559017 CustomsCode\n",
      "[-0.] 0.0028854541794349877 LocationCode\n",
      "[5.464e-07] 0.003288075692844521 PortOfUnladingUNLOCODE\n",
      "[-0.001] 0.01248126691569553 ShipmentDestination\n",
      "[-0.001] 0.005502494016596953 ShipperPanjivaID\n",
      "[0.] 0.09110430133983492 TransportMethod\n",
      "[-0.001] 0.005636701187733464 hscode_6\n",
      "-----\n",
      "1810 0.36787956190990084\n",
      "[-0.] 0.012347059744559017 CustomsCode\n",
      "[-0.] 0.0028854541794349877 LocationCode\n",
      "[5.464e-07] 0.003288075692844521 PortOfUnladingUNLOCODE\n",
      "[-0.001] 0.01248126691569553 ShipmentDestination\n",
      "[-0.001] 0.005502494016596953 ShipperPanjivaID\n",
      "[0.] 0.09110430133983492 TransportMethod\n",
      "[-0.001] 0.005636701187733464 hscode_6\n",
      "-----\n",
      "2247 0.36787956190990084\n",
      "[-0.] 0.012347059744559017 CustomsCode\n",
      "[-0.] 0.0028854541794349877 LocationCode\n",
      "[5.464e-07] 0.003288075692844521 PortOfUnladingUNLOCODE\n",
      "[-0.001] 0.01248126691569553 ShipmentDestination\n",
      "[-0.001] 0.005502494016596953 ShipperPanjivaID\n",
      "[0.] 0.09110430133983492 TransportMethod\n",
      "[-0.001] 0.005636701187733464 hscode_6\n",
      "-----\n",
      "3870 0.36787956190990084\n",
      "[-0.] 0.012347059744559017 CustomsCode\n",
      "[-0.] 0.0028854541794349877 LocationCode\n",
      "[5.464e-07] 0.003288075692844521 PortOfUnladingUNLOCODE\n",
      "[-0.001] 0.01248126691569553 ShipmentDestination\n",
      "[-0.001] 0.005502494016596953 ShipperPanjivaID\n",
      "[0.] 0.09110430133983492 TransportMethod\n",
      "[-0.001] 0.005636701187733464 hscode_6\n",
      "-----\n",
      "3996 0.36787956190990084\n",
      "[-0.] 0.012347059744559017 CustomsCode\n",
      "[-0.] 0.0028854541794349877 LocationCode\n",
      "[5.464e-07] 0.003288075692844521 PortOfUnladingUNLOCODE\n",
      "[-0.001] 0.01248126691569553 ShipmentDestination\n",
      "[-0.001] 0.005502494016596953 ShipperPanjivaID\n",
      "[0.] 0.09110430133983492 TransportMethod\n",
      "[-0.001] 0.005636701187733464 hscode_6\n",
      "-----\n",
      "4129 0.36787956190990084\n",
      "[-0.] 0.012347059744559017 CustomsCode\n",
      "[-0.] 0.0028854541794349877 LocationCode\n",
      "[5.464e-07] 0.003288075692844521 PortOfUnladingUNLOCODE\n",
      "[-0.001] 0.01248126691569553 ShipmentDestination\n",
      "[-0.001] 0.005502494016596953 ShipperPanjivaID\n",
      "[0.] 0.09110430133983492 TransportMethod\n",
      "[-0.001] 0.005636701187733464 hscode_6\n",
      "-----\n",
      "4611 0.36787956190990084\n",
      "[-0.] 0.012347059744559017 CustomsCode\n",
      "[-0.] 0.0028854541794349877 LocationCode\n",
      "[5.464e-07] 0.003288075692844521 PortOfUnladingUNLOCODE\n",
      "[-0.001] 0.01248126691569553 ShipmentDestination\n",
      "[-0.001] 0.005502494016596953 ShipperPanjivaID\n",
      "[0.] 0.09110430133983492 TransportMethod\n",
      "[-0.001] 0.005636701187733464 hscode_6\n",
      "-----\n"
     ]
    }
   ],
   "source": [
    "for s in sorted_scores[:10]:\n",
    "    s1 = record_nodeID_dict[s[0]]\n",
    "    s2 = s[1]\n",
    "    print(s1,s2)\n",
    "    \n",
    "    # find the neighbors & show their weights\n",
    "    obj = g.nodes[s1]['data']\n",
    "    \n",
    "    for nbr in g.neighbors(s1):\n",
    "        e = g.get_edge_data(s1,nbr)['weight']\n",
    "        print(Y_old[nbr],e,g.nodes[nbr]['data'].domain)\n",
    "    print('-----')"
   ]
  },
  {
   "cell_type": "code",
   "execution_count": null,
   "metadata": {},
   "outputs": [],
   "source": [
    "\n"
   ]
  },
  {
   "cell_type": "code",
   "execution_count": null,
   "metadata": {},
   "outputs": [],
   "source": []
  },
  {
   "cell_type": "code",
   "execution_count": null,
   "metadata": {},
   "outputs": [],
   "source": [
    "\n"
   ]
  },
  {
   "cell_type": "code",
   "execution_count": null,
   "metadata": {},
   "outputs": [],
   "source": []
  },
  {
   "cell_type": "code",
   "execution_count": null,
   "metadata": {},
   "outputs": [],
   "source": []
  },
  {
   "cell_type": "code",
   "execution_count": null,
   "metadata": {},
   "outputs": [],
   "source": [
    " "
   ]
  }
 ],
 "metadata": {
  "kernelspec": {
   "display_name": "Python 3",
   "language": "python",
   "name": "python3"
  },
  "language_info": {
   "codemirror_mode": {
    "name": "ipython",
    "version": 3
   },
   "file_extension": ".py",
   "mimetype": "text/x-python",
   "name": "python",
   "nbconvert_exporter": "python",
   "pygments_lexer": "ipython3",
   "version": "3.6.8"
  }
 },
 "nbformat": 4,
 "nbformat_minor": 2
}
